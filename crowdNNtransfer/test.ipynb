{
 "cells": [
  {
   "cell_type": "markdown",
   "metadata": {},
   "source": [
    "### Transfer Model"
   ]
  },
  {
   "cell_type": "code",
   "execution_count": 2,
   "metadata": {},
   "outputs": [
    {
     "name": "stderr",
     "output_type": "stream",
     "text": [
      "/opt/anaconda3/envs/neuralnetworks/lib/python3.11/site-packages/torchvision/models/_utils.py:208: UserWarning: The parameter 'pretrained' is deprecated since 0.13 and may be removed in the future, please use 'weights' instead.\n",
      "  warnings.warn(\n",
      "/opt/anaconda3/envs/neuralnetworks/lib/python3.11/site-packages/torchvision/models/_utils.py:223: UserWarning: Arguments other than a weight enum or `None` for 'weights' are deprecated since 0.13 and may be removed in the future. The current behavior is equivalent to passing `weights=EfficientNet_B0_Weights.IMAGENET1K_V1`. You can also use `weights=EfficientNet_B0_Weights.DEFAULT` to get the most up-to-date weights.\n",
      "  warnings.warn(msg)\n"
     ]
    }
   ],
   "source": [
    "import torch\n",
    "import torch.nn as nn\n",
    "import torchvision.transforms as transforms\n",
    "from torchvision.models import efficientnet_b0\n",
    "\n",
    "# Load pre-trained EfficientNet-B0\n",
    "model = efficientnet_b0(pretrained=True)\n",
    "\n",
    "# Modify the classifier for regression (outputting a single scalar)\n",
    "model.classifier[1] = nn.Linear(model.classifier[1].in_features, 1)\n",
    "\n",
    "# Optional: Freeze feature extractor layers (at first)\n",
    "for param in model.features.parameters():\n",
    "    param.requires_grad = False\n",
    "\n"
   ]
  },
  {
   "cell_type": "markdown",
   "metadata": {},
   "source": [
    "### Preprocess"
   ]
  },
  {
   "cell_type": "code",
   "execution_count": 3,
   "metadata": {},
   "outputs": [],
   "source": [
    "import os\n",
    "from PIL import Image\n",
    "import torch\n",
    "from torch.utils.data import Dataset, DataLoader\n",
    "from torchvision import transforms\n",
    "\n",
    "class CrowdDataset(Dataset):\n",
    "    def __init__(self, data_dir, transform=None):\n",
    "        self.images_dir = os.path.join(data_dir, 'images')\n",
    "        self.label_path = os.path.join(data_dir, 'image_labels.txt')\n",
    "        self.transform = transform\n",
    "\n",
    "        self.samples = []\n",
    "        with open(self.label_path, 'r') as f:\n",
    "            for line in f:\n",
    "                parts = line.strip().split(',')\n",
    "                if len(parts) >= 2:\n",
    "                    image_id = parts[0]\n",
    "                    count = float(parts[1])\n",
    "                    if count > 1000:\n",
    "                        return  # skip this image\n",
    "                    filename = image_id + '.jpg'\n",
    "                    self.samples.append((filename, count))\n",
    "\n",
    "\n",
    "    def __len__(self):\n",
    "        return len(self.samples)\n",
    "\n",
    "    def __getitem__(self, idx):\n",
    "        filename, count = self.samples[idx]\n",
    "        image_path = os.path.join(self.images_dir, filename)\n",
    "\n",
    "        image = Image.open(image_path).convert(\"RGB\")\n",
    "        if self.transform:\n",
    "            image = self.transform(image)\n",
    "\n",
    "        count = torch.tensor(count, dtype=torch.float32)\n",
    "\n",
    "        return image, count\n",
    "    \n",
    "transform = transforms.Compose([\n",
    "    # transforms.Grayscale(num_output_channels=1),\n",
    "    transforms.Resize((256, 256)),\n",
    "    transforms.ToTensor(),\n",
    "    transforms.Normalize(mean=[0.5], std=[0.5])\n",
    "])\n",
    "\n",
    "# Define paths to each data split\n",
    "base_dir = './jhu_crowd_v2.0'\n",
    "splits = {\n",
    "    'train': os.path.join(base_dir, 'train'),\n",
    "    'val': os.path.join(base_dir, 'val'),\n",
    "    'test': os.path.join(base_dir, 'test')\n",
    "}"
   ]
  },
  {
   "cell_type": "markdown",
   "metadata": {},
   "source": [
    "### Training Setup"
   ]
  },
  {
   "cell_type": "code",
   "execution_count": 4,
   "metadata": {},
   "outputs": [],
   "source": [
    "# loss function\n",
    "criterion = nn.MSELoss()  # or try MAE with nn.L1Loss()"
   ]
  },
  {
   "cell_type": "code",
   "execution_count": 5,
   "metadata": {},
   "outputs": [],
   "source": [
    "# optimizer\n",
    "optimizer = torch.optim.Adam(model.parameters(), lr=1e-4)"
   ]
  },
  {
   "cell_type": "code",
   "execution_count": null,
   "metadata": {},
   "outputs": [],
   "source": [
    "from torch.utils.data import DataLoader\n",
    "\n",
    "train_dataset = CrowdDataset(splits['train'], transform=transform)\n",
    "val_dataset = CrowdDataset(splits['val'], transform=transform)\n",
    "test_dataset = CrowdDataset(splits['test'], transform=transform)\n",
    "\n",
    "train_loader = DataLoader(train_dataset, batch_size=32, shuffle=True)\n",
    "val_loader = DataLoader(val_dataset, batch_size=32)\n",
    "test_loader = DataLoader(test_dataset, batch_size=32)"
   ]
  },
  {
   "cell_type": "markdown",
   "metadata": {},
   "source": [
    "### Forward Pass Loop"
   ]
  },
  {
   "cell_type": "code",
   "execution_count": null,
   "metadata": {},
   "outputs": [],
   "source": [
    "model.eval()  # or model.train() if training\n",
    "for images, labels in train_loader:\n",
    "    # images = images.to(device)  # If using CUDA\n",
    "    # labels = labels.float().to(device)  # Make sure labels are float\n",
    "\n",
    "    outputs = model(images)  # Shape: [batch_size, 1]\n",
    "    outputs = outputs.squeeze(1)  # Shape: [batch_size]\n",
    "\n",
    "    loss = criterion(outputs, labels)\n",
    "\n",
    "    # If training:\n",
    "    # optimizer.zero_grad()\n",
    "    # loss.backward()\n",
    "    # optimizer.step()"
   ]
  }
 ],
 "metadata": {
  "kernelspec": {
   "display_name": "neuralnetworks",
   "language": "python",
   "name": "python3"
  },
  "language_info": {
   "codemirror_mode": {
    "name": "ipython",
    "version": 3
   },
   "file_extension": ".py",
   "mimetype": "text/x-python",
   "name": "python",
   "nbconvert_exporter": "python",
   "pygments_lexer": "ipython3",
   "version": "3.11.11"
  }
 },
 "nbformat": 4,
 "nbformat_minor": 2
}
